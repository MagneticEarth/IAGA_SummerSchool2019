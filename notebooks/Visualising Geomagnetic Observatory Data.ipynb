{
 "cells": [
  {
   "cell_type": "markdown",
   "metadata": {},
   "source": [
    "<h1><center>IAGA Summer School 2019</center></h1>\n",
    "\n",
    "<h1><center>Visualising geomagnetic data: time series, Bartels plots and contour plots</center></h1>"
   ]
  },
  {
   "cell_type": "code",
   "execution_count": null,
   "metadata": {},
   "outputs": [],
   "source": [
    "# Import notebook dependencies\n",
    "\n",
    "import os\n",
    "import sys\n",
    "import datetime as dt\n",
    "import numpy as np\n",
    "import pandas as pd\n",
    "import matplotlib.pyplot as plt\n",
    "from mpl_toolkits.mplot3d import Axes3D\n",
    "from matplotlib import cm\n",
    "from matplotlib.ticker import LinearLocator, FormatStrFormatter\n",
    "from scipy.interpolate import griddata\n",
    "\n",
    "sys.path.append('..')\n",
    "from src import mag_lib as mag\n",
    "\n",
    "# Set the data path\n",
    "\n",
    "ESK_2003_PATH = os.path.abspath('../data/external/ESK_2003/')"
   ]
  },
  {
   "cell_type": "code",
   "execution_count": null,
   "metadata": {},
   "outputs": [],
   "source": [
    "%matplotlib notebook"
   ]
  },
  {
   "cell_type": "markdown",
   "metadata": {},
   "source": [
    "# Plotting 1-minute and 1-hour observatory means"
   ]
  },
  {
   "cell_type": "markdown",
   "metadata": {},
   "source": [
    "Load the 2003 1-minute data for ESK and resample to hourly means"
   ]
  },
  {
   "cell_type": "code",
   "execution_count": null,
   "metadata": {},
   "outputs": [],
   "source": [
    "# 1-minute data\n",
    "obs_min = mag.load_year(observatory='esk', year=2003, path=ESK_2003_PATH)\n",
    "# 1-hour data\n",
    "obs_hourly = obs_min.resample('1h').mean()"
   ]
  },
  {
   "cell_type": "markdown",
   "metadata": {},
   "source": [
    "Print the first few lines of each data set"
   ]
  },
  {
   "cell_type": "code",
   "execution_count": null,
   "metadata": {},
   "outputs": [],
   "source": [
    "obs_min.head()"
   ]
  },
  {
   "cell_type": "code",
   "execution_count": null,
   "metadata": {},
   "outputs": [],
   "source": [
    "obs_hourly.head()"
   ]
  },
  {
   "cell_type": "markdown",
   "metadata": {},
   "source": [
    "### >> USER INPUT HERE: Choose the start and end times of the time series plots in the format '2003-mm-dd hh'"
   ]
  },
  {
   "cell_type": "code",
   "execution_count": null,
   "metadata": {},
   "outputs": [],
   "source": [
    "start_date = '2003-01-01 00'\n",
    "end_date = '2003-01-31 23'"
   ]
  },
  {
   "cell_type": "markdown",
   "metadata": {},
   "source": [
    "Plot the 1-minute data for the selected period"
   ]
  },
  {
   "cell_type": "code",
   "execution_count": null,
   "metadata": {},
   "outputs": [],
   "source": [
    "ax = obs_min.loc[start_date:end_date, 'ESKX':'ESKZ'].plot(subplots=True, figsize=(10,7),\n",
    "                                                          title='1-minute means: ESK 2003', legend=False)\n",
    "plt.xlabel('Date')\n",
    "ax[0].set_ylabel('X (nT)')\n",
    "ax[1].set_ylabel('Y (nT)')\n",
    "ax[2].set_ylabel('Z (nT)')"
   ]
  },
  {
   "cell_type": "markdown",
   "metadata": {},
   "source": [
    "Plot the hourly mean data for the same period"
   ]
  },
  {
   "cell_type": "code",
   "execution_count": null,
   "metadata": {},
   "outputs": [],
   "source": [
    "ax = obs_hourly.loc[start_date:end_date, 'ESKX':'ESKZ'].plot(subplots=True, figsize=(10,7),\n",
    "                                                             title='1-hour means: ESK 2003', legend=False)\n",
    "plt.xlabel('Date')\n",
    "ax[0].set_ylabel('X (nT)')\n",
    "ax[1].set_ylabel('Y (nT)')\n",
    "ax[2].set_ylabel('Z (nT)')"
   ]
  },
  {
   "cell_type": "markdown",
   "metadata": {},
   "source": [
    "Compare hourly means with the annual means"
   ]
  },
  {
   "cell_type": "code",
   "execution_count": null,
   "metadata": {},
   "outputs": [],
   "source": [
    "# Resample to annual means\n",
    "obs_annual = obs_min.resample('1Y').mean()\n",
    "dates = obs_hourly.loc[start_date:end_date].reset_index()['DATE_TIME']\n",
    "annual = pd.DataFrame(index=dates, data=[[obs_annual.loc['2003-12-31','ESKX'], obs_annual.loc['2003-12-31','ESKY'],\n",
    "                                       obs_annual.loc['2003-12-31','ESKZ']]], columns=['ESKX', 'ESKY', 'ESKZ'])"
   ]
  },
  {
   "cell_type": "code",
   "execution_count": null,
   "metadata": {},
   "outputs": [],
   "source": [
    "fig, (ax1, ax2, ax3) = plt.subplots(nrows=3, sharex=True, figsize=(10,9))\n",
    "# X component\n",
    "ax1.plot(dates, obs_hourly.loc[start_date:end_date,'ESKX'], 'k')\n",
    "ax1.plot(annual['ESKX'], 'k')\n",
    "ax1.fill_between(dates, obs_hourly.loc[start_date:end_date,'ESKX'], annual['ESKX'].values,\n",
    "                 where=obs_hourly.loc[start_date:end_date,'ESKX'] < annual['ESKX'], facecolor='lightblue',\n",
    "                 interpolate=True)\n",
    "ax1.fill_between(dates, obs_hourly.loc[start_date:end_date,'ESKX'], annual['ESKX'],\n",
    "                 where=obs_hourly.loc[start_date:end_date,'ESKX'] >= annual['ESKX'], facecolor='pink',\n",
    "                 interpolate=True)\n",
    "ax1.set_ylabel('X (nT)')\n",
    "# Y component\n",
    "ax2.plot(dates, obs_hourly.loc[start_date:end_date,'ESKY'], 'k')\n",
    "ax2.plot(annual['ESKY'], 'k')\n",
    "ax2.fill_between(dates, obs_hourly.loc[start_date:end_date,'ESKY'], annual['ESKY'].values,\n",
    "                where=obs_hourly.loc[start_date:end_date,'ESKY'] < annual['ESKY'], facecolor='lightblue',\n",
    "                 interpolate=True)\n",
    "ax2.fill_between(dates, obs_hourly.loc[start_date:end_date,'ESKY'], annual['ESKY'],\n",
    "                 where=obs_hourly.loc[start_date:end_date,'ESKY'] >= annual['ESKY'], facecolor='pink',\n",
    "                 interpolate=True)\n",
    "ax2.set_ylabel('Y (nT)')\n",
    "# Z component\n",
    "ax3.plot(dates, obs_hourly.loc[start_date:end_date,'ESKZ'], 'k')\n",
    "ax3.plot(annual['ESKZ'], 'k')\n",
    "ax3.fill_between(dates, obs_hourly.loc[start_date:end_date,'ESKZ'], annual['ESKZ'].values,\n",
    "                where=obs_hourly.loc[start_date:end_date,'ESKZ'] < annual['ESKZ'], facecolor='lightblue',\n",
    "                 interpolate=True)\n",
    "ax3.fill_between(dates, obs_hourly.loc[start_date:end_date,'ESKZ'], annual['ESKZ'],\n",
    "                where=obs_hourly.loc[start_date:end_date,'ESKZ'] >= annual['ESKZ'], facecolor='pink',\n",
    "                 interpolate=True)\n",
    "ax3.set_ylabel('Z (nT)')\n",
    "plt.xticks(rotation = 45)\n",
    "plt.xlabel('Date', )"
   ]
  },
  {
   "cell_type": "markdown",
   "metadata": {},
   "source": [
    "# Data stacking\n",
    "\n",
    "Stacking is a simple technique for signal to noise improvement in a time series. If a signal has a period $T$ then dividing the signal into sections of length $T$ and taking a mean over many stacked sections should reinforce the signal and reduce the amplitude of random noise."
   ]
  },
  {
   "cell_type": "code",
   "execution_count": null,
   "metadata": {},
   "outputs": [],
   "source": [
    "nsegs = 10\n",
    "nmins = 1440\n",
    "ntot = nsegs*nmins-1\n",
    "nroll = 1\n",
    "starting_day = '2003-06-01'"
   ]
  },
  {
   "cell_type": "code",
   "execution_count": null,
   "metadata": {},
   "outputs": [],
   "source": []
  },
  {
   "cell_type": "code",
   "execution_count": null,
   "metadata": {},
   "outputs": [],
   "source": []
  },
  {
   "cell_type": "code",
   "execution_count": null,
   "metadata": {},
   "outputs": [],
   "source": [
    "def read_obs_hmv_d(obscode, year_st, year_fn, folder):\n",
    "    \"\"\"Read (or calculate) the declination hourly means between year_st and year_fn for the specified observatory\n",
    "    \n",
    "    \"\"\"\n",
    "    OBSY   = obscode.upper()\n",
    "    obsy   = obscode.lower()\n",
    "    # Read in the observatory data one year file at a time and construct filenames\n",
    "    datareq = pd.DataFrame()\n",
    "    for year in range(year_st, year_fn+1):\n",
    "        ystr    = str(year)\n",
    "        file    = obsy + ystr + 'dhor.hor'\n",
    "        fpf     =  folder + file\n",
    "        tmp     = mag.IAGA2002_Data_Reader(fpf)\n",
    "        tmp.columns = [col.strip(OBSY) for col in tmp.columns]\n",
    "        if('D' not in tmp.columns):\n",
    "            dvals, hvals, ivalsm, fvals  = mag.xyz2dhif(tmp['X'], tmp['Y'], tmp['Z'])\n",
    "            tmp.insert(1, dvals)\n",
    "        datareq = datareq.append(tmp[['D']])\n",
    "    return(datareq)\n"
   ]
  },
  {
   "cell_type": "code",
   "execution_count": null,
   "metadata": {},
   "outputs": [],
   "source": [
    "# Read data\n",
    "hmv = read_obs_hmv_d(obscode='esk', year_st=1986, year_fn=1997, folder='/Users/gracecox/Dropbox/David_IAGA/hmv/')\n",
    "\n",
    "hmv.reset_index(inplace=True)\n",
    "# Set missing values to nan\n",
    "print(99999.00 in hmv.D.values)\n",
    "hmv['D']=hmv.D.replace(99999.00, np.nan)\n",
    "print(99999.00 in hmv.D.values)\n"
   ]
  },
  {
   "cell_type": "code",
   "execution_count": null,
   "metadata": {},
   "outputs": [],
   "source": [
    "# Calculate the time as minutes since midnight and date as julian day or a time delta in seconds\n",
    "# This is needed for plotting purposes as the axes must be numbers, not datetime objects or strings\n",
    "hmv['mins_count'] = hmv['DATE_TIME'].map(lambda x: x.time().hour*60 + x.time().minute)\n",
    "\n",
    "hmv['julian_day'] = hmv['DATE_TIME'].map(lambda x: int(x.to_julian_date()))\n",
    "\n",
    "hmv['seconds'] = pd.to_timedelta(hmv.DATE_TIME).dt.total_seconds().astype(int)"
   ]
  },
  {
   "cell_type": "code",
   "execution_count": null,
   "metadata": {},
   "outputs": [],
   "source": [
    "print(np.min(df['D']))\n"
   ]
  },
  {
   "cell_type": "code",
   "execution_count": null,
   "metadata": {},
   "outputs": [],
   "source": [
    "# Plot the hourly data in 2D using a dataframe pivot and contourf\n",
    "df = pd.DataFrame({'date':hmv['julian_day'], 'time':hmv['mins_count'], 'D':hmv['D']})\n",
    "\n",
    "dfMesh = df.pivot('time','date','D')\n",
    "\n",
    "fig, ax = plt.subplots(figsize=(8,5))\n",
    "#v = np.linspace(-500, -250, 100, endpoint=True)\n",
    "conts = ax.contourf(dfMesh.columns.values, dfMesh.index.values, dfMesh.values, cmap=cm.jet)\n",
    "ax.set_xlabel('Julian Day')\n",
    "ax.set_ylabel('Minutes since midnight')\n",
    "#plt.colorbar()\n",
    "plt.show()"
   ]
  },
  {
   "cell_type": "code",
   "execution_count": null,
   "metadata": {},
   "outputs": [],
   "source": [
    "# Plot the hourly data in 3D using trisurf\n",
    "fig = plt.figure(figsize=(10,10))\n",
    "ax = fig.add_subplot(1, 1, 1, projection='3d')\n",
    "ax.plot_trisurf(hmv.seconds, hmv.mins_count, hmv.D)\n",
    "xlabels=ax.get_xticks().tolist()\n",
    "ax.set_xticklabels(pd.to_datetime(xlabels, unit='s'))\n",
    "ylabels=ax.get_yticks()"
   ]
  },
  {
   "cell_type": "code",
   "execution_count": null,
   "metadata": {},
   "outputs": [],
   "source": [
    "# Subtract the daily mean from each hour\n",
    "hmv['daily'] = hmv['D'] - np.array(hmv.set_index('DATE_TIME').groupby(pd.Grouper(freq='D')).mean()['D']).repeat(24)"
   ]
  },
  {
   "cell_type": "code",
   "execution_count": null,
   "metadata": {},
   "outputs": [],
   "source": [
    "# Plot the hourly data (with daily mean subtracted) in 3D using trisurf\n",
    "fig = plt.figure(figsize=(8,5))\n",
    "ax = fig.add_subplot(1, 1, 1, projection='3d')\n",
    "ax.plot_trisurf(hmv.seconds, hmv.mins_count, hmv.daily)\n",
    "xlabels=ax.get_xticks().tolist()\n",
    "ax.set_xticklabels(pd.to_datetime(xlabels, unit='s'))\n",
    "ylabels=ax.get_yticks()"
   ]
  },
  {
   "cell_type": "code",
   "execution_count": null,
   "metadata": {},
   "outputs": [],
   "source": [
    "import numpy as np\n",
    "import matplotlib.pyplot as plt\n",
    "from matplotlib import cm\n",
    "from matplotlib.ticker import LinearLocator, FormatStrFormatter\n",
    "from mpl_toolkits.mplot3d import Axes3D\n",
    "\n",
    "## Matplotlib Sample Code using 2D arrays via meshgrid\n",
    "X = np.arange(-5, 5, 0.25)\n",
    "Y = np.arange(-5, 5, 0.25)\n",
    "X, Y = np.meshgrid(X, Y)\n",
    "R = np.sqrt(X ** 2 + Y ** 2)\n",
    "Z = np.sin(R)\n",
    "fig = plt.figure()\n",
    "ax = Axes3D(fig)\n",
    "surf = ax.plot_surface(X, Y, Z, rstride=1, cstride=1, cmap=cm.coolwarm,\n",
    "                       linewidth=0, antialiased=False)\n",
    "ax.set_zlim(-1.01, 1.01)\n",
    "\n",
    "ax.zaxis.set_major_locator(LinearLocator(10))\n",
    "ax.zaxis.set_major_formatter(FormatStrFormatter('%.02f'))\n",
    "\n",
    "fig.colorbar(surf, shrink=0.5, aspect=5)\n",
    "plt.title('Original Code')\n",
    "plt.show()"
   ]
  },
  {
   "cell_type": "code",
   "execution_count": null,
   "metadata": {},
   "outputs": [],
   "source": [
    "np.shape(Z)"
   ]
  },
  {
   "cell_type": "code",
   "execution_count": null,
   "metadata": {},
   "outputs": [],
   "source": [
    "x2, y2 = np.meshgrid(np.array(hmv['seconds'][0:1000]), np.array(hmv['mins_count'][0:1000]))\n",
    "\n",
    "# Interpolate unstructured D-dimensional data.\n",
    "z2 = griddata((hmv['seconds'][0:1000], hmv['mins_count'][0:1000]), hmv['daily'][0:1000], (x2, y2), method='cubic')\n",
    "\n",
    "# Ready to plot\n",
    "fig = plt.figure()\n",
    "ax = fig.gca(projection='3d')\n",
    "surf = ax.plot_surface(x2, y2, z2, rstride=1, cstride=1, cmap=cm.coolwarm,\n",
    "                       linewidth=0, antialiased=False)\n",
    "ax.set_zlim(-1.01, 1.01)\n",
    "\n",
    "ax.zaxis.set_major_locator(LinearLocator(10))\n",
    "ax.zaxis.set_major_formatter(FormatStrFormatter('%.02f'))\n",
    "\n",
    "fig.colorbar(surf, shrink=0.5, aspect=5)\n",
    "plt.title('Meshgrid Created from 3 1D Arrays')\n",
    "\n",
    "plt.show()"
   ]
  },
  {
   "cell_type": "code",
   "execution_count": null,
   "metadata": {},
   "outputs": [],
   "source": [
    "X = np.array(hmv['seconds'][0:1000])\n",
    "Y = np.array(hmv['mins_count'][0:1000])\n",
    "X, Y = np.meshgrid(X, Y)\n",
    "zs = np.array(np.ravel(X), np.ravel(Y))\n",
    "Z = zs.reshape(X.shape)\n",
    "#Z = np.array(hmv['daily'][0:1000])\n",
    "fig = plt.figure()\n",
    "ax = Axes3D(fig)\n",
    "surf = ax.plot_surface(X, Y, Z, rstride=1, cstride=1, cmap=cm.coolwarm,\n",
    "                       linewidth=0, antialiased=False)\n",
    "#ax.set_zlim(-1.01, 1.01)\n",
    "\n",
    "#ax.zaxis.set_major_locator(LinearLocator(10))\n",
    "#ax.zaxis.set_major_formatter(FormatStrFormatter('%.02f'))\n",
    "\n",
    "#fig.colorbar(surf, shrink=0.5, aspect=5)\n",
    "plt.title('Original Code')\n",
    "plt.show()"
   ]
  },
  {
   "cell_type": "code",
   "execution_count": null,
   "metadata": {},
   "outputs": [],
   "source": [
    "# Plot the hourly data with daily mean subtracted in 2D using a dataframe pivot and contourf\n",
    "df = pd.DataFrame({'date':hmv['julian_day'], 'time':hmv['mins_count'], 'D':hmv['daily']})\n",
    "\n",
    "dfMesh = df.pivot('time','date','D')\n",
    "\n",
    "fig, ax = plt.subplots(figsize=(8,5))\n",
    "\n",
    "conts = ax.contourf(dfMesh.columns.values, dfMesh.index.values, dfMesh.values,100, cmap=cm.jet)\n",
    "ax.set_xlabel('Julian Day')\n",
    "ax.set_ylabel('Minutes since midnight')\n",
    "#plt.colorbar()\n",
    "plt.show()"
   ]
  },
  {
   "cell_type": "code",
   "execution_count": null,
   "metadata": {
    "scrolled": true
   },
   "outputs": [],
   "source": [
    "hmv"
   ]
  },
  {
   "cell_type": "code",
   "execution_count": null,
   "metadata": {},
   "outputs": [],
   "source": [
    "# Calculate the monthly mean for each hour of the day\n",
    "mmv = hmv.groupby([hmv['DATE_TIME'].dt.year, hmv['DATE_TIME'].dt.hour]).mean()\n",
    "                                        "
   ]
  },
  {
   "cell_type": "code",
   "execution_count": null,
   "metadata": {
    "scrolled": true
   },
   "outputs": [],
   "source": [
    "mmv"
   ]
  },
  {
   "cell_type": "code",
   "execution_count": null,
   "metadata": {},
   "outputs": [],
   "source": [
    "# Plot the monthly mean of each hour using trisurf\n",
    "fig = plt.figure(figsize=(10,10))\n",
    "ax = fig.add_subplot(1, 1, 1, projection='3d')\n",
    "ax.plot_trisurf(mmv.seconds, mmv.mins_count, mmv.D)\n",
    "xlabels=ax.get_xticks().tolist()\n",
    "ax.set_xticklabels(pd.to_datetime(xlabels, unit='s'))\n",
    "ylabels=ax.get_yticks()\n",
    "#ax.set_yticklabels((ylabels-30)/60)"
   ]
  },
  {
   "cell_type": "code",
   "execution_count": null,
   "metadata": {},
   "outputs": [],
   "source": [
    "xlabels"
   ]
  },
  {
   "cell_type": "code",
   "execution_count": null,
   "metadata": {},
   "outputs": [],
   "source": [
    "pd.to_datetime(xlabels, unit='s')"
   ]
  },
  {
   "cell_type": "code",
   "execution_count": null,
   "metadata": {},
   "outputs": [],
   "source": [
    "pd.to_datetime(hmv.julian_day, unit='D')"
   ]
  },
  {
   "cell_type": "code",
   "execution_count": null,
   "metadata": {},
   "outputs": [],
   "source": [
    "np.array(hmv.groupby(pd.Grouper(freq='A')).mean()).repeat(12)"
   ]
  },
  {
   "cell_type": "code",
   "execution_count": null,
   "metadata": {},
   "outputs": [],
   "source": [
    "mmv"
   ]
  },
  {
   "cell_type": "code",
   "execution_count": null,
   "metadata": {},
   "outputs": [],
   "source": [
    "mmv.columns"
   ]
  },
  {
   "cell_type": "code",
   "execution_count": null,
   "metadata": {},
   "outputs": [],
   "source": [
    "hmv.groupby(pd.Grouper(freq='D'))"
   ]
  },
  {
   "cell_type": "code",
   "execution_count": null,
   "metadata": {},
   "outputs": [],
   "source": [
    "df.set_index(['year', 'month', 'item']).unstack(level=-1)"
   ]
  },
  {
   "cell_type": "code",
   "execution_count": null,
   "metadata": {},
   "outputs": [],
   "source": [
    "mmv.unstack(level=-1)"
   ]
  },
  {
   "cell_type": "code",
   "execution_count": null,
   "metadata": {
    "scrolled": true
   },
   "outputs": [],
   "source": [
    "dfMesh"
   ]
  },
  {
   "cell_type": "code",
   "execution_count": null,
   "metadata": {},
   "outputs": [],
   "source": [
    "df"
   ]
  },
  {
   "cell_type": "code",
   "execution_count": null,
   "metadata": {
    "scrolled": true
   },
   "outputs": [],
   "source": [
    "df = pd.DataFrame({'date':hmv['julian_day'], 'time':hmv['mins_count'], 'D':hmv['D']})\n",
    "\n",
    "dfMesh = df.pivot('time','date','D')\n",
    "\n",
    "fig, ax = plt.subplots()\n",
    "\n",
    "conts = ax.contourf(dfMesh.columns.values, dfMesh.index.values, dfMesh.values,100, cmap=cm.jet)\n",
    "ax.set_xlabel('Julian Day')\n",
    "ax.set_ylabel('Minutes since midnight')\n",
    "#plt.colorbar()\n",
    "plt.show()"
   ]
  },
  {
   "cell_type": "code",
   "execution_count": null,
   "metadata": {},
   "outputs": [],
   "source": [
    "dfMesh = hmv.pivot('mins_count','julian_day','X')"
   ]
  },
  {
   "cell_type": "code",
   "execution_count": null,
   "metadata": {},
   "outputs": [],
   "source": [
    "import matplotlib.dates as dates\n",
    "hmv['date_num'] = hmv['DATE_TIME'].map(lambda x: dates.date2num(x))"
   ]
  },
  {
   "cell_type": "code",
   "execution_count": null,
   "metadata": {},
   "outputs": [],
   "source": [
    " ([df1.index.year, df1.index.hour])"
   ]
  },
  {
   "cell_type": "code",
   "execution_count": null,
   "metadata": {
    "scrolled": true
   },
   "outputs": [],
   "source": []
  },
  {
   "cell_type": "code",
   "execution_count": null,
   "metadata": {},
   "outputs": [],
   "source": [
    "\n",
    "test = np.array(hmv.set_index('DATE_TIME').groupby(\n",
    "    pd.Grouper(freq='M')).mean()) - np.array(hmv.set_index('DATE_TIME').groupby(\n",
    "    pd.Grouper(freq='Y')).mean()).repeat(12)\n",
    "\n"
   ]
  },
  {
   "cell_type": "code",
   "execution_count": null,
   "metadata": {},
   "outputs": [],
   "source": [
    "plt.plot(test)"
   ]
  },
  {
   "cell_type": "code",
   "execution_count": null,
   "metadata": {},
   "outputs": [],
   "source": []
  },
  {
   "cell_type": "code",
   "execution_count": null,
   "metadata": {},
   "outputs": [],
   "source": []
  },
  {
   "cell_type": "code",
   "execution_count": null,
   "metadata": {
    "scrolled": true
   },
   "outputs": [],
   "source": [
    "help(np.meshgrid)"
   ]
  },
  {
   "cell_type": "code",
   "execution_count": null,
   "metadata": {},
   "outputs": [],
   "source": [
    "x = np.array(hmv['seconds'])\n",
    "y = np.array(hmv['mins_count'])"
   ]
  },
  {
   "cell_type": "code",
   "execution_count": null,
   "metadata": {},
   "outputs": [],
   "source": [
    "X, Y = np.meshgrid(x,y)\n",
    "fig = plt.figure()\n",
    "ax = fig.add_subplot(1, 1, 1, projection='3d')\n",
    "surf1 = ax.plot_surface(dfMesh.columns.values, dfMesh.index.values, dfMesh.values, cmap=plt.cm.coolwarm)"
   ]
  },
  {
   "cell_type": "code",
   "execution_count": null,
   "metadata": {},
   "outputs": [],
   "source": [
    "dfMesh"
   ]
  },
  {
   "cell_type": "code",
   "execution_count": null,
   "metadata": {},
   "outputs": [],
   "source": [
    "#ts = pd.date_range('1/1/2017 0:00', '1/24/2017 23:00', freq='H') # 24 * 24 long\n",
    "#temp = map(lambda x: sin(2*pi*x/40), range(576))  \n",
    "# tiny testcase: sin(2*pi*x/12) or /24 provide horizontal contours: quite right.\n",
    "\n",
    "\n",
    "df = pd.DataFrame({'date':map(lambda x:int(x.to_julian_date()), hmv['DATE_TIME']),\n",
    "                   'time':map(lambda x:x.time().hour*60 + x.time().minute, hmv['DATE_TIME']),\n",
    "                   'X':hmv['X']})\n",
    "\n",
    "#dfMesh = df.pivot('time','date',hmv['X'])\n",
    "\n",
    "#fig, ax = plt.subplots()\n",
    "\n",
    "#conts = ax.contour(dfMesh.columns.values, dfMesh.index.values, dfMesh.values)\n",
    "#ax.set_xlabel('Julian day')\n",
    "#ax.set_ylabel('Minutes since midnight')\n",
    "\n",
    "#plt.show()"
   ]
  },
  {
   "cell_type": "code",
   "execution_count": null,
   "metadata": {},
   "outputs": [],
   "source": []
  },
  {
   "cell_type": "code",
   "execution_count": null,
   "metadata": {},
   "outputs": [],
   "source": []
  },
  {
   "cell_type": "code",
   "execution_count": null,
   "metadata": {},
   "outputs": [],
   "source": []
  },
  {
   "cell_type": "code",
   "execution_count": null,
   "metadata": {},
   "outputs": [],
   "source": []
  },
  {
   "cell_type": "markdown",
   "metadata": {},
   "source": [
    "# Plotting observatory data by the Bartels rotation number\n",
    "\n",
    "Demo of using pandas & matplotlib to reproduce yearly plots of observatory data ordered by Bartels rotation number\n",
    "\n",
    "e.g. http://geomag.bgs.ac.uk/data_service/data/bulletins/esk/2003/esk_dec03.pdf pages 22-24"
   ]
  },
  {
   "cell_type": "markdown",
   "metadata": {},
   "source": [
    "**Load 1-minute data and resample to 1-hour**"
   ]
  },
  {
   "cell_type": "code",
   "execution_count": null,
   "metadata": {},
   "outputs": [],
   "source": [
    "# 1-minute data\n",
    "df_m = mag.load_year(observatory='esk', year=2003, path=ESK_2003_PATH)\n",
    "# 1-hour data\n",
    "df_h = df_m.resample('1h').mean()\n",
    "df_h.head()"
   ]
  },
  {
   "cell_type": "markdown",
   "metadata": {},
   "source": [
    "**Calculate hourly means and append them to the hourly dataframe**"
   ]
  },
  {
   "cell_type": "code",
   "execution_count": null,
   "metadata": {},
   "outputs": [],
   "source": [
    "obs = 'ESK'\n",
    "annual_means = (\n",
    "    df_m[[f\"{obs}{i}\" for i in \"XYZF\"]].resample(\"1Y\").mean()\n",
    "    .rename(columns={f\"{obs}{i}\":f\"{obs}{i}_mean\" for i in \"XYZF\"})\n",
    "    .reindex(index=df_h.index, method=\"nearest\")\n",
    ")\n",
    "df_h = df_h.join(annual_means)\n",
    "df_h.head()"
   ]
  },
  {
   "cell_type": "markdown",
   "metadata": {},
   "source": [
    "**Change the index to a Bartels-rotation-based MultiIndex**"
   ]
  },
  {
   "cell_type": "code",
   "execution_count": null,
   "metadata": {},
   "outputs": [],
   "source": [
    "def bartels_rotation(datetime, return_indexes=True):\n",
    "    \"\"\"\n",
    "    \n",
    "    Args:\n",
    "        date (datetime/DatetimeIndex)\n",
    "        \n",
    "    Returns:\n",
    "        tuple (rotation number, day within rotation, hour within day)\n",
    "        \n",
    "    \"\"\"\n",
    "    if type(datetime) is pd.DatetimeIndex:\n",
    "        date, hour = datetime.date, datetime.hour\n",
    "    elif type(datetime) is dt.datetime:\n",
    "        date, hour = datetime.date(), datetime.hour\n",
    "    # Number of days since Bartels 0\n",
    "    ndays = pd.to_timedelta(date - dt.date(1832, 2, 8)).days\n",
    "    bartels_rotation = ndays//27 + 1\n",
    "    day = ndays%27 + 1\n",
    "    if return_indexes:\n",
    "        return bartels_rotation, day, hour\n",
    "    else:\n",
    "        return tuple([item.values for item in (bartels_rotation, day, hour)])\n",
    "\n",
    "\n",
    "def create_bartels_index(df, nlevels=3):\n",
    "    \"\"\"Replaces a DatetimeIndex with a Bartels MultiIndex\n",
    "    \n",
    "    If nlevels is 3, the MultiIndex has levels:\n",
    "        0: (bartrot) Bartel rotation number\n",
    "        1: (bartrotday) Day within the current Bartel rotation\n",
    "        2: (hourofday) Hour within the current day\n",
    "    else if nlevels is 2:\n",
    "        0: (bartrot) Bartel rotation number\n",
    "        1: (bartrotday) Fractional day\n",
    "    \n",
    "    Args:\n",
    "        df (DataFrame)\n",
    "    \n",
    "    Returns:\n",
    "        DataFrame\n",
    "\n",
    "    \"\"\"\n",
    "    bartrot, bartrotday, hourofday = bartels_rotation(df.index)\n",
    "    if nlevels == 3:\n",
    "        df.index = pd.MultiIndex.from_arrays(\n",
    "            (bartrot, bartrotday, hourofday), names=(\"bartrot\", \"bartrotday\", \"hourofday\")\n",
    "        )\n",
    "    elif nlevels == 2:\n",
    "        df.index = pd.MultiIndex.from_arrays(\n",
    "            (bartrot, bartrotday + hourofday/24), names=(\"bartrot\", \"bartrotday\")\n",
    "        )\n",
    "    else:\n",
    "        raise NotImplementedError()\n",
    "    return df"
   ]
  },
  {
   "cell_type": "code",
   "execution_count": null,
   "metadata": {},
   "outputs": [],
   "source": [
    "# Preserve the time index as a column instead\n",
    "df_h[\"time\"] = df_h.index\n",
    "df_h = create_bartels_index(df_h, nlevels=2)\n",
    "\n",
    "df_h.head()"
   ]
  },
  {
   "cell_type": "markdown",
   "metadata": {},
   "source": [
    "**Identifying calendar month starts**"
   ]
  },
  {
   "cell_type": "code",
   "execution_count": null,
   "metadata": {},
   "outputs": [],
   "source": [
    "month_starts = df_h[\"time\"].where(\n",
    "    (df_h[\"time\"].dt.day == 1) & (df_h[\"time\"].dt.hour == 0)\n",
    ").dropna()\n",
    "month_starts"
   ]
  },
  {
   "cell_type": "code",
   "execution_count": null,
   "metadata": {},
   "outputs": [],
   "source": [
    "month_starts.loc[2312].dt.strftime(\"%b\").values[0]"
   ]
  },
  {
   "cell_type": "markdown",
   "metadata": {},
   "source": [
    "**Loop through each bartrot and plot it on its own axis**"
   ]
  },
  {
   "cell_type": "code",
   "execution_count": null,
   "metadata": {
    "scrolled": false
   },
   "outputs": [],
   "source": [
    "obs = \"ESK\"\n",
    "var = \"X\"\n",
    "\n",
    "bartrots = range(df_h.index[0][0], df_h.index[-1][0] + 1)\n",
    "fig, axes = plt.subplots(\n",
    "    nrows=len(bartrots), ncols=1, figsize=(15, 15),\n",
    "    gridspec_kw = {'hspace':0},\n",
    "    sharex=True, sharey=True\n",
    ")\n",
    "for bartrot, ax in zip(bartrots, axes):\n",
    "    x = df_h.loc[bartrot].index\n",
    "    y0 = df_h.loc[bartrot][f\"{obs}{var}_mean\"]\n",
    "    y1 = df_h.loc[bartrot][f\"{obs}{var}\"]\n",
    "    ax.plot(x, y0, color=\"black\", linewidth=0.4)\n",
    "    ax.plot(x, y1, color=\"black\", linewidth=0.8, clip_on=False)\n",
    "    ax.fill_between(\n",
    "        x, y0, y1, where=y1 < y0,\n",
    "        facecolor='lightblue', interpolate=True, zorder=9#, clip_on=False currently causes a bug\n",
    "    )\n",
    "    ax.fill_between(\n",
    "        x, y0, y1, where=y1 >= y0,\n",
    "        facecolor='pink', interpolate=True, zorder=10#, clip_on=False\n",
    "    )\n",
    "    ax_r = ax.twinx()\n",
    "    ax_r.set_ylabel(bartrot, fontsize=15)\n",
    "    ax_r.set_yticks([])\n",
    "    # some magic which enables lines from one axis to show on top of other axes\n",
    "    ax.patch.set_visible(False)\n",
    "    \n",
    "    # Add text identifying the start of each month\n",
    "    if bartrot in month_starts.keys():\n",
    "        bartrotday = float(month_starts.loc[bartrot].index.values)\n",
    "        month = month_starts.loc[bartrot].dt.strftime(\"%b\").values[0]\n",
    "        ax.text(bartrotday, y0.iloc[0] - 85, month, verticalalignment=\"top\")\n",
    "\n",
    "ax.set_ylim((y0.iloc[0] - 75, y0.iloc[0] + 75))\n",
    "ax.set_xlabel(\"Day within Bartels rotation\");\n",
    "axes[0].set_title(f\"{obs}-{var} (nT, left axis), by Bartels rotation number (right axis)\",\n",
    "                  fontsize=15);"
   ]
  },
  {
   "cell_type": "code",
   "execution_count": null,
   "metadata": {},
   "outputs": [],
   "source": []
  }
 ],
 "metadata": {
  "kernelspec": {
   "display_name": "Python 3",
   "language": "python",
   "name": "python3"
  },
  "language_info": {
   "codemirror_mode": {
    "name": "ipython",
    "version": 3
   },
   "file_extension": ".py",
   "mimetype": "text/x-python",
   "name": "python",
   "nbconvert_exporter": "python",
   "pygments_lexer": "ipython3",
   "version": "3.7.3"
  }
 },
 "nbformat": 4,
 "nbformat_minor": 2
}
